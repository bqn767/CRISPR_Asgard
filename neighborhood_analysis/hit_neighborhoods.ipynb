{
 "cells": [
  {
   "cell_type": "markdown",
   "metadata": {},
   "source": [
    "\n",
    "\n",
    "All Asgard genomes were downloaded and stored in the directory \"ncbi-genomes-2021-03-21\". All genomes were compiled into a same bgff file called \"asgard_assemblies.gbff\" by means of a simple bash command: cat *.gbff > asgard_assemblies.gbff"
   ]
  },
  {
   "cell_type": "code",
   "execution_count": 1,
   "metadata": {},
   "outputs": [],
   "source": [
    "from Bio import SeqIO # To parse the Genbank files (gbff) with SeqIO.parse().\n",
    "import re\n",
    "import sys"
   ]
  },
  {
   "cell_type": "code",
   "execution_count": 3,
   "metadata": {
    "scrolled": true
   },
   "outputs": [],
   "source": [
    "unique_hits_protein_id = open(\"crispr_hits_protein_id.txt\", \"r\")\n",
    "unique_hits_protein_id = unique_hits_protein_id.readlines()\n",
    "unique_hits_protein_id = [hit[:-1] for hit in unique_hits_protein_id] # Remove the trailing \\n."
   ]
  },
  {
   "cell_type": "markdown",
   "metadata": {},
   "source": [
    "# Printing features that are in the region around each CRISPR-hit"
   ]
  },
  {
   "cell_type": "markdown",
   "metadata": {},
   "source": [
    "Print features (usually, gene products) that are around each CRISPR hit. For each hit, 7 features are printed:\n",
    "The hit itself, 3 features on the 5' side, and 3 features on the 3' side.\n",
    "\n",
    "First, I create a full-feature version. This version prints all information in each feature: protein ID, protein sequence, product, locus tag, etc. This version is meant to be human readable, that is, in order to manually explore the 7 features around a particular hit.\n",
    "\n",
    "Then, I create a product version. The \"product\" field of a feature indicates the automatic prediction of what that gene product is. Examples are \"putative ski2-type helicase\" or \"CRISPR-associated protein, Csh2 family\". In the product version of the hit neighborhood, I print only the product field of the features around each hit."
   ]
  },
  {
   "cell_type": "code",
   "execution_count": null,
   "metadata": {},
   "outputs": [],
   "source": [
    "# Full-feature neighborhood.\n",
    "\n",
    "asgard_genomes = open(\"ncbi-genomes-2021-03-21/asgard_assemblies.gbff\", \"r\")\n",
    "asgard_genomes = SeqIO.parse(asgard_genomes, \"genbank\")\n",
    "counter = 0\n",
    "original_stdout = sys.stdout\n",
    "\n",
    "with open(\"neighborhood_hits_full.txt\", \"w\") as neighborhood_hits:\n",
    "    sys.stdout = neighborhood_hits # Redirect the output generated with print statements to the neighborhood_hits file.\n",
    "    for record in asgard_genomes:\n",
    "        for index, feature in enumerate(record.features):\n",
    "            try:\n",
    "                if feature.type == \"CDS\" and feature.qualifiers[\"protein_id\"][0] in unique_hits_protein_id:\n",
    "                    counter +=1\n",
    "                    print(\"Hit Number: \", counter, \"Feature index: \", index, \"Number of features: \", len(record.features))\n",
    "                    print(\"Neighbors 5'\") # Printing neighbors on the 5' side.\n",
    "                    \n",
    "                    # Every protein has a CDS feature and a gene feature. Therefore, in the following lines, by saying\n",
    "                    # \"range from 1 to 7\" I am saying \"the features corresponding to the hit and the next 3 proteins\".\n",
    "                    \n",
    "                    for i in reversed(range(1, min(8, index))): # If there are less than 7 features before the hit,\n",
    "                        # the index will be smaller than 8, and I will just print all features before the hit.\n",
    "                        if record.features[index-i].type not in [\"gene\", \"assembly_gap\", \"source\"]: # I want to avoid printing\n",
    "                            # gene features, because all proteins have a very similar CDS feature, and assembly gaps and the sample source,\n",
    "                            # because I am not interested in those features, \n",
    "                            print(record.features[index-i])\n",
    "                    print(\"HIT\")        \n",
    "                    print(feature)\n",
    "                    print(\"Neighbors 3'\") # Printing neighbors on the 3' side.\n",
    "                    for i in range(1, min(8, len(record.features))):\n",
    "                        if record.features[index+i].type not in [\"gene\", \"assembly_gap\", \"source\"]:\n",
    "                            print(record.features[index+i])             \n",
    "            except:\n",
    "                pass\n",
    "sys.stdout = original_stdout"
   ]
  },
  {
   "cell_type": "code",
   "execution_count": 40,
   "metadata": {
    "scrolled": true
   },
   "outputs": [
    {
     "ename": "NameError",
     "evalue": "name 'original_stdout' is not defined",
     "output_type": "error",
     "traceback": [
      "\u001b[0;31m---------------------------------------------------------------------------\u001b[0m",
      "\u001b[0;31mNameError\u001b[0m                                 Traceback (most recent call last)",
      "\u001b[0;32m<ipython-input-40-57e74a4e0878>\u001b[0m in \u001b[0;36m<module>\u001b[0;34m\u001b[0m\n\u001b[1;32m     18\u001b[0m             \u001b[0;32mexcept\u001b[0m\u001b[0;34m:\u001b[0m\u001b[0;34m\u001b[0m\u001b[0;34m\u001b[0m\u001b[0m\n\u001b[1;32m     19\u001b[0m                 \u001b[0;32mpass\u001b[0m\u001b[0;34m\u001b[0m\u001b[0;34m\u001b[0m\u001b[0m\n\u001b[0;32m---> 20\u001b[0;31m \u001b[0msys\u001b[0m\u001b[0;34m.\u001b[0m\u001b[0mstdout\u001b[0m \u001b[0;34m=\u001b[0m \u001b[0moriginal_stdout\u001b[0m\u001b[0;34m\u001b[0m\u001b[0;34m\u001b[0m\u001b[0m\n\u001b[0m",
      "\u001b[0;31mNameError\u001b[0m: name 'original_stdout' is not defined"
     ]
    }
   ],
   "source": [
    "# Product version of hit neighborhood.\n",
    "\n",
    "asgard_genomes = open(\"ncbi-genomes-2021-03-21/asgard_assemblies.gbff\", \"r\")\n",
    "asgard_genomes = SeqIO.parse(asgard_genomes, \"genbank\")\n",
    "\n",
    "with open(\"neighborhood_hits_products.txt\", \"w\") as neighborhood_hits:\n",
    "    for record in asgard_genomes:\n",
    "        for index, feature in enumerate(record.features):\n",
    "            try:\n",
    "                if feature.type == \"CDS\" and feature.qualifiers[\"protein_id\"][0] in unique_hits_protein_id:\n",
    "                    for i in reversed(range(1, min(8, index))):\n",
    "                        if record.features[index-i].type not in [\"gene\", \"assembly_gap\", \"source\"]:\n",
    "                            neighborhood_hits.write(str(record.features[index-i].qualifiers[\"product\"][0]) + \"\\n\")    \n",
    "                    neighborhood_hits.write(str(feature.qualifiers[\"product\"][0]) + \"\\n\")\n",
    "                    for i in range(1, min(8, len(record.features))):\n",
    "                        if record.features[index+i].type not in [\"gene\", \"assembly_gap\", \"source\"]:\n",
    "                             neighborhood_hits.write(str(record.features[index+i].qualifiers[\"product\"][0]) + \"\\n\")             \n",
    "            except:\n",
    "                pass"
   ]
  },
  {
   "cell_type": "markdown",
   "metadata": {},
   "source": [
    "# Printing the DNA sequence around each hit"
   ]
  },
  {
   "cell_type": "markdown",
   "metadata": {},
   "source": [
    "As CRISPR arrays are expected to be in a zone nearby CRISPR-Cas systems, the 20000 bp around each hit (10000 bp on each side) were analyzed. Those 20000 bp around each hit are stored in the dnaseq_hits.fasta file, each header being the Genbank ID of the hit."
   ]
  },
  {
   "cell_type": "code",
   "execution_count": 5,
   "metadata": {},
   "outputs": [],
   "source": [
    "asgard_genomes = open(\"ncbi-genomes-2021-03-21/asgard_assemblies.gbff\", \"r\")\n",
    "asgard_genomes = SeqIO.parse(asgard_genomes, \"genbank\")\n",
    "\n",
    "with open(\"dnaseq_hits.fasta\", \"w\") as dnaseq_hits: \n",
    "    for record in asgard_genomes:\n",
    "        for feature in record.features:\n",
    "            try:\n",
    "                if feature.type == \"CDS\" and feature.qualifiers[\"protein_id\"][0] in unique_hits_protein_id:\n",
    "                    start = feature.location.start\n",
    "                    end = feature.location.end\n",
    "                    dnaseq_hits.write(\">\" + feature.qualifiers[\"protein_id\"][0] + \"\\n\")\n",
    "                    window_10000 = record.seq[start - min(10000, start): end + min(10000, len(record.seq)-end)]\n",
    "                    # window_10000 represents a window of 10000 bp on each side of the hit.\n",
    "                    if feature.location.strand == -1:\n",
    "                        window_10000 = window_10000.reverse_complement()[::-1] # Take the reverse complementary, and reverse it, to get the complementary.\n",
    "                    dnaseq_hits.write(str(window_10000) + \"\\n\")\n",
    "            except:\n",
    "                pass"
   ]
  }
 ],
 "metadata": {
  "kernelspec": {
   "display_name": "Python 3",
   "language": "python",
   "name": "python3"
  },
  "language_info": {
   "codemirror_mode": {
    "name": "ipython",
    "version": 3
   },
   "file_extension": ".py",
   "mimetype": "text/x-python",
   "name": "python",
   "nbconvert_exporter": "python",
   "pygments_lexer": "ipython3",
   "version": "3.8.5"
  }
 },
 "nbformat": 4,
 "nbformat_minor": 4
}
