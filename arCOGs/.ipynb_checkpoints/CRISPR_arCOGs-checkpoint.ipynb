{
 "cells": [
  {
   "cell_type": "code",
   "execution_count": 1,
   "metadata": {},
   "outputs": [],
   "source": [
    "import pandas as pd\n",
    "import os"
   ]
  },
  {
   "cell_type": "code",
   "execution_count": 47,
   "metadata": {},
   "outputs": [],
   "source": [
    "arCOG_files = os.listdir(\"ali.ar14\")\n",
    "arCOGdef = pd.read_table(\"ar14.arCOGdef.tab.txt\")"
   ]
  },
  {
   "cell_type": "code",
   "execution_count": 4,
   "metadata": {},
   "outputs": [],
   "source": [
    "# Create a list of arCOGs that contain CRISPR.\n",
    "arCOGdef[\"CRISPR\"] = arCOGdef[\"Annotation\"].str.find(\"CRISPR\")\n",
    "CRISPR_arCOGs = arCOGdef[arCOGdef[\"CRISPR\"] != -1 ]\n",
    "list_CRISPR_arCOGs = CRISPR_arCOGs[\"CLU\"].tolist()"
   ]
  },
  {
   "cell_type": "code",
   "execution_count": 46,
   "metadata": {},
   "outputs": [],
   "source": [
    "# Create a list with arCOG filenames that contain CRISPR.\n",
    "CRISPR_arCOG_files = []\n",
    "for file in arCOG_files:\n",
    "    for CRISPR_arCOG in list_CRISPR_arCOGs:\n",
    "        try:\n",
    "            if file.find(CRISPR_arCOG) != -1: # File not found.\n",
    "                CRISPR_arCOG_files.append(file)\n",
    "        except FileNotFoundError:\n",
    "            continue # Go to next file."
   ]
  },
  {
   "cell_type": "code",
   "execution_count": 45,
   "metadata": {},
   "outputs": [],
   "source": [
    "# Remove arCOG files that are not CRISPR.\n",
    "for file in arCOG_files:\n",
    "    if file not in CRISPR_arCOG_files:\n",
    "        try:\n",
    "            os.remove(\"ali.ar14/\" + file)\n",
    "        except:\n",
    "            continue"
   ]
  }
 ],
 "metadata": {
  "kernelspec": {
   "display_name": "Python 3",
   "language": "python",
   "name": "python3"
  },
  "language_info": {
   "codemirror_mode": {
    "name": "ipython",
    "version": 3
   },
   "file_extension": ".py",
   "mimetype": "text/x-python",
   "name": "python",
   "nbconvert_exporter": "python",
   "pygments_lexer": "ipython3",
   "version": "3.8.5"
  }
 },
 "nbformat": 4,
 "nbformat_minor": 2
}
